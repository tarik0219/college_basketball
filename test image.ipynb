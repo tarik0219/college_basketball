{
 "cells": [
  {
   "cell_type": "code",
   "execution_count": 5,
   "metadata": {},
   "outputs": [
    {
     "name": "stdout",
     "output_type": "stream",
     "text": [
      "https://lthumb.lisimg.com/721/14931721.jpg\n",
      "https://lthumb.lisimg.com/721/14931721.jpg\n",
      "https://lthumb.lisimg.com/000/100000000000.jpg\n",
      "https://lthumb.lisimg.com/016/14811016.jpg\n",
      "https://lthumb.lisimg.com/746/573746.jpg\n",
      "https://lthumb.lisimg.com/426/13218426.jpg\n",
      "https://lthumb.lisimg.com/434/13218434.jpg\n",
      "https://lthumb.lisimg.com/760/5028760.jpg\n",
      "https://lthumb.lisimg.com/260/6133260.jpg\n",
      "https://lthumb.lisimg.com/203/6133203.jpg\n",
      "https://lthumb.lisimg.com/901/6132901.jpg\n",
      "https://lthumb.lisimg.com/797/9915797.jpg\n",
      "https://lthumb.lisimg.com/723/14931723.jpg\n",
      "https://lthumb.lisimg.com/242/6133242.jpg\n",
      "https://lthumb.lisimg.com/088/9343088.jpg\n",
      "https://lthumb.lisimg.com/862/13217862.jpg\n",
      "https://lthumb.lisimg.com/722/14931722.jpg\n",
      "https://lthumb.lisimg.com/724/14931724.jpg\n",
      "https://lthumb.lisimg.com/721/14931721.jpg\n",
      "https://lthumb.lisimg.com/588/12066588.jpg\n"
     ]
    }
   ],
   "source": [
    "import urllib.request\n",
    "import re\n",
    "\n",
    "source = urllib.request.urlopen('https://www.listal.com/list/music-group-tlc').read().decode('utf-8')\n",
    "\n",
    "## every image name is an abbreviation composed by capital letters, so...\n",
    "for link in re.findall('https://lthumb.lisimg.com/[0-9]*/[0-9]*.jpg', source):\n",
    "    print (link)"
   ]
  },
  {
   "cell_type": "code",
   "execution_count": 4,
   "metadata": {},
   "outputs": [
    {
     "name": "stderr",
     "output_type": "stream",
     "text": [
      "C:\\Program Files (x86)\\Microsoft Visual Studio\\Shared\\Python36_64\\lib\\site-packages\\ipykernel_launcher.py:8: DeprecationWarning: use options instead of chrome_options\n",
      "  \n"
     ]
    },
    {
     "name": "stdout",
     "output_type": "stream",
     "text": [
      "None\n",
      "https://swimsuit.si.com/.image/c_limit%2Ccs_srgb%2Cfl_progressive%2Ch_2000%2Cq_auto:good%2Cw_2000/MTY5MjQzNjgzOTgyNDE5NDE5/078076470_12_kate-upton_02jpg.jpg\n",
      "None\n",
      "https://swimsuit.si.com/.image/c_limit%2Ccs_srgb%2Cfl_progressive%2Ch_2000%2Cq_auto:good%2Cw_2000/MTY5MjQzNjg0MjQ4NDMwMDQz/078076844_12_kate-upton_03jpg.jpg\n",
      "None\n",
      "https://swimsuit.si.com/.image/c_limit%2Ccs_srgb%2Cfl_progressive%2Ch_2000%2Cq_auto:good%2Cw_2000/MTY5MjQzNjg0MjQ4MTAyMzYz/078077355_12_kate-upton_04jpg.jpg\n"
     ]
    }
   ],
   "source": [
    "from selenium import webdriver\n",
    "import time\n",
    "\n",
    "options = webdriver.ChromeOptions()\n",
    "options.add_argument('--ignore-certificate-errors')\n",
    "options.add_argument(\"--test-type\")\n",
    "#options.binary_location = \"/usr/bin/chromium\"\n",
    "driver = webdriver.Chrome(chrome_options=options)\n",
    "\n",
    "driver.get('https://swimsuit.si.com/swimsuit/model/kate-upton-2012-photos#&gid=ci0259463c700925db&pid=078076844_12_kate-upton_03jpg')\n",
    "\n",
    "time.sleep(3)\n",
    "images = driver.find_elements_by_class_name('pswp__img')\n",
    "\n",
    "for image in images:\n",
    "    print(image.get_attribute('src'))\n",
    "\n",
    "driver.close()"
   ]
  },
  {
   "cell_type": "code",
   "execution_count": null,
   "metadata": {
    "collapsed": true
   },
   "outputs": [],
   "source": []
  }
 ],
 "metadata": {
  "kernelspec": {
   "display_name": "Python 3.6.3 64-bit",
   "language": "python",
   "name": "python36364bit6c9bb98bb2bc4fcb9679a38287fe6d3e"
  },
  "language_info": {
   "codemirror_mode": {
    "name": "ipython",
    "version": 3
   },
   "file_extension": ".py",
   "mimetype": "text/x-python",
   "name": "python",
   "nbconvert_exporter": "python",
   "pygments_lexer": "ipython3",
   "version": "3.6.3"
  }
 },
 "nbformat": 4,
 "nbformat_minor": 2
}
