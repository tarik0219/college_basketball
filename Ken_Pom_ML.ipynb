{
 "cells": [
  {
   "cell_type": "code",
   "execution_count": 6,
   "metadata": {
    "collapsed": true
   },
   "outputs": [],
   "source": [
    "from datetime import datetime\n",
    "from datetime import timedelta\n",
    "from sportsreference.ncaab.boxscore import Boxscores\n",
    "from sportsreference.ncaab.teams import Teams\n",
    "import pandas as pd\n",
    "import csv"
   ]
  },
  {
   "cell_type": "code",
   "execution_count": 7,
   "metadata": {
    "collapsed": true
   },
   "outputs": [],
   "source": [
    "def get_today():\n",
    "    today = datetime.today()\n",
    "    year = today.year\n",
    "    month = today.month\n",
    "    day = today.day\n",
    "    return year,month,day\n",
    "\n",
    "def get_yesterday():\n",
    "    today = datetime.today()\n",
    "    yesterday = today - timedelta(days = 1)\n",
    "    year = yesterday.year\n",
    "    month = yesterday.month\n",
    "    day = yesterday.day\n",
    "    return year,month,day\n",
    "\n",
    "def get_scores(year, month ,day):\n",
    "    home_teams = []\n",
    "    away_teams = []\n",
    "    home_scores = []\n",
    "    away_scores = []\n",
    "    \n",
    "    games = Boxscores(datetime(year, month, day))\n",
    "    all_games = games.games[str(month)+'-'+str(day)+'-'+str(year)]\n",
    "    \n",
    "    for game in all_games:\n",
    "        home_teams.append(game['home_name'])\n",
    "        away_teams.append(game['away_name'])\n",
    "        home_scores.append(game['home_score'])\n",
    "        away_scores.append(game['away_score'])\n",
    "    return home_teams,away_teams,home_scores,away_scores\n",
    "    "
   ]
  },
  {
   "cell_type": "code",
   "execution_count": 8,
   "metadata": {},
   "outputs": [
    {
     "name": "stdout",
     "output_type": "stream",
     "text": [
      "2020 9 22\n"
     ]
    }
   ],
   "source": [
    "year,month,day = get_yesterday()\n",
    "print(year, month, day)"
   ]
  },
  {
   "cell_type": "code",
   "execution_count": 9,
   "metadata": {},
   "outputs": [
    {
     "data": {
      "text/plain": [
       "int"
      ]
     },
     "execution_count": 9,
     "metadata": {},
     "output_type": "execute_result"
    }
   ],
   "source": [
    "type(year)"
   ]
  },
  {
   "cell_type": "code",
   "execution_count": 12,
   "metadata": {},
   "outputs": [],
   "source": [
    "home_teams,away_teams,home_scores,away_scores = get_scores(2020, 12,13)"
   ]
  },
  {
   "cell_type": "code",
   "execution_count": 13,
   "metadata": {},
   "outputs": [],
   "source": [
    "for i, val in enumerate(home_teams):\n",
    "    print(home_scores[i],home_teams[i],away_teams[i],away_scores[i])"
   ]
  },
  {
   "cell_type": "code",
   "execution_count": 7,
   "metadata": {},
   "outputs": [
    {
     "data": {
      "text/html": [
       "<div>\n",
       "<style scoped>\n",
       "    .dataframe tbody tr th:only-of-type {\n",
       "        vertical-align: middle;\n",
       "    }\n",
       "\n",
       "    .dataframe tbody tr th {\n",
       "        vertical-align: top;\n",
       "    }\n",
       "\n",
       "    .dataframe thead th {\n",
       "        text-align: right;\n",
       "    }\n",
       "</style>\n",
       "<table border=\"1\" class=\"dataframe\">\n",
       "  <thead>\n",
       "    <tr style=\"text-align: right;\">\n",
       "      <th></th>\n",
       "      <th>team</th>\n",
       "      <th>off</th>\n",
       "      <th>def</th>\n",
       "      <th>tempo</th>\n",
       "      <th>luck</th>\n",
       "    </tr>\n",
       "  </thead>\n",
       "  <tbody>\n",
       "    <tr>\n",
       "      <th>0</th>\n",
       "      <td>Kansas</td>\n",
       "      <td>115.8</td>\n",
       "      <td>85.5</td>\n",
       "      <td>67.3</td>\n",
       "      <td>0.040</td>\n",
       "    </tr>\n",
       "    <tr>\n",
       "      <th>1</th>\n",
       "      <td>Gonzaga</td>\n",
       "      <td>121.3</td>\n",
       "      <td>94.4</td>\n",
       "      <td>71.9</td>\n",
       "      <td>0.050</td>\n",
       "    </tr>\n",
       "    <tr>\n",
       "      <th>2</th>\n",
       "      <td>Baylor</td>\n",
       "      <td>113.5</td>\n",
       "      <td>88.1</td>\n",
       "      <td>66.2</td>\n",
       "      <td>0.016</td>\n",
       "    </tr>\n",
       "    <tr>\n",
       "      <th>3</th>\n",
       "      <td>Dayton</td>\n",
       "      <td>119.1</td>\n",
       "      <td>94.1</td>\n",
       "      <td>67.6</td>\n",
       "      <td>0.002</td>\n",
       "    </tr>\n",
       "    <tr>\n",
       "      <th>4</th>\n",
       "      <td>Duke</td>\n",
       "      <td>115.7</td>\n",
       "      <td>91.1</td>\n",
       "      <td>72.0</td>\n",
       "      <td>-0.009</td>\n",
       "    </tr>\n",
       "  </tbody>\n",
       "</table>\n",
       "</div>"
      ],
      "text/plain": [
       "      team    off   def  tempo   luck\n",
       "0   Kansas  115.8  85.5   67.3  0.040\n",
       "1  Gonzaga  121.3  94.4   71.9  0.050\n",
       "2   Baylor  113.5  88.1   66.2  0.016\n",
       "3   Dayton  119.1  94.1   67.6  0.002\n",
       "4     Duke  115.7  91.1   72.0 -0.009"
      ]
     },
     "execution_count": 7,
     "metadata": {},
     "output_type": "execute_result"
    }
   ],
   "source": [
    "kp = pd.read_csv('kenpom.csv')\n",
    "kp.head()"
   ]
  },
  {
   "cell_type": "code",
   "execution_count": 8,
   "metadata": {},
   "outputs": [
    {
     "name": "stderr",
     "output_type": "stream",
     "text": [
      "C:\\Program Files (x86)\\Microsoft Visual Studio\\Shared\\Python36_64\\lib\\site-packages\\ipykernel_launcher.py:7: SettingWithCopyWarning: \n",
      "A value is trying to be set on a copy of a slice from a DataFrame\n",
      "\n",
      "See the caveats in the documentation: http://pandas.pydata.org/pandas-docs/stable/user_guide/indexing.html#returning-a-view-versus-a-copy\n",
      "  import sys\n"
     ]
    }
   ],
   "source": [
    "for index, row in kp.iterrows():\n",
    "    name = row['team']\n",
    "    name_list = name.split()\n",
    "    if name_list[-1] == \"St.\":\n",
    "        name_list[-1] = \"State\"\n",
    "        new_name = \" \".join(str(x) for x in name_list)\n",
    "        kp['team'][index] = new_name\n",
    "        \n",
    "        \n",
    "    "
   ]
  },
  {
   "cell_type": "code",
   "execution_count": 9,
   "metadata": {
    "collapsed": true
   },
   "outputs": [],
   "source": [
    "teams_ken_pom = kp['team'].tolist()"
   ]
  },
  {
   "cell_type": "code",
   "execution_count": 10,
   "metadata": {
    "collapsed": true
   },
   "outputs": [],
   "source": [
    "teams = Teams()\n",
    "teams_sportsreference = []\n",
    "for team in teams:\n",
    "    teams_sportsreference.append(team.name)"
   ]
  },
  {
   "cell_type": "code",
   "execution_count": 11,
   "metadata": {},
   "outputs": [
    {
     "name": "stdout",
     "output_type": "stream",
     "text": [
      "Alabama-Birmingham\n",
      "Albany (NY)\n",
      "Arkansas-Pine Bluff\n",
      "Bethune-Cookman\n",
      "Bowling Green State\n",
      "Brigham Young\n",
      "Cal State Bakersfield\n",
      "Cal State Fullerton\n",
      "Cal State Northridge\n",
      "California Baptist\n",
      "UC-Davis\n",
      "UC-Irvine\n",
      "UC-Riverside\n",
      "UC-Santa Barbara\n",
      "University of California\n",
      "Central Connecticut State\n",
      "Central Florida\n",
      "Citadel\n",
      "College of Charleston\n",
      "Detroit Mercy\n",
      "Florida International\n",
      "Gardner-Webb\n",
      "Grambling\n",
      "Illinois-Chicago\n",
      "Purdue-Fort Wayne\n",
      "Cal State Long Beach\n",
      "Long Island University\n",
      "Louisiana-Monroe\n",
      "Louisiana State\n",
      "Loyola (IL)\n",
      "Loyola (MD)\n",
      "Maryland-Baltimore County\n",
      "Maryland-Eastern Shore\n",
      "Massachusetts-Lowell\n",
      "Miami (FL)\n",
      "Miami (OH)\n",
      "Missouri-Kansas City\n",
      "Omaha\n",
      "Nevada-Las Vegas\n",
      "North Carolina-Asheville\n",
      "North Carolina-Greensboro\n",
      "North Carolina State\n",
      "North Carolina-Wilmington\n",
      "Pennsylvania\n",
      "Prairie View\n",
      "Saint Francis (PA)\n",
      "Saint Mary's (CA)\n",
      "South Carolina Upstate\n",
      "Southern California\n",
      "Southern Methodist\n",
      "Southern Mississippi\n",
      "St. Francis (NY)\n",
      "St. John's (NY)\n",
      "Tennessee-Martin\n",
      "Texas A&M-Corpus Christi\n",
      "Texas-Arlington\n",
      "Texas Christian\n",
      "Texas-El Paso\n",
      "Texas-Rio Grande Valley\n",
      "Texas-San Antonio\n",
      "Virginia Commonwealth\n"
     ]
    }
   ],
   "source": [
    "for team in teams_sportsreference:\n",
    "    if team not in teams_ken_pom:\n",
    "        print(team)"
   ]
  },
  {
   "cell_type": "code",
   "execution_count": 82,
   "metadata": {
    "collapsed": true
   },
   "outputs": [],
   "source": [
    "map_names_not_same = {\n",
    "                     }"
   ]
  },
  {
   "cell_type": "code",
   "execution_count": 88,
   "metadata": {
    "collapsed": true
   },
   "outputs": [],
   "source": [
    "home_teams,away_teams,home_scores,away_scores = get_scores(2020, 3 ,8)"
   ]
  },
  {
   "cell_type": "code",
   "execution_count": 89,
   "metadata": {
    "collapsed": true
   },
   "outputs": [],
   "source": [
    "h_off = []\n",
    "h_def = []\n",
    "h_tempo = []\n",
    "h_luck = []\n",
    "a_off = []\n",
    "a_def = []\n",
    "a_tempo = []\n",
    "a_luck = []\n",
    "not_in_h = []\n",
    "not_in_a = []\n",
    "for i,team in enumerate(home_teams):\n",
    "    check = False\n",
    "    for index, row in kp.iterrows():\n",
    "        if row['team'] == team:\n",
    "            h_off.append(row['off'])\n",
    "            h_def.append(row['def'])\n",
    "            h_tempo.append(row['tempo'])\n",
    "            h_luck.append(row['luck'])\n",
    "            check = True\n",
    "    if not check:\n",
    "        h_off.append(None)\n",
    "        h_def.append(None)\n",
    "        h_tempo.append(None)\n",
    "        h_luck.append(None)\n",
    "        not_in_h.append(i)\n",
    "\n",
    "for i,team in enumerate(away_teams):\n",
    "    check = False\n",
    "    for index, row in kp.iterrows():\n",
    "        if row['team'] == team and i not in not_in_h:\n",
    "            a_off.append(row['off'])\n",
    "            a_def.append(row['def'])\n",
    "            a_tempo.append(row['tempo'])\n",
    "            a_luck.append(row['luck'])\n",
    "            check = True\n",
    "    if not check:\n",
    "        not_in_a.append(i)\n",
    "x = 0\n",
    "for i in not_in_a:\n",
    "    num = i - x\n",
    "    del h_off[num]\n",
    "    del h_def[num]\n",
    "    del h_tempo[num]\n",
    "    del h_luck[num]\n",
    "    del away_teams[num]\n",
    "    del home_teams[num]\n",
    "    x += 1\n",
    "    "
   ]
  },
  {
   "cell_type": "code",
   "execution_count": 90,
   "metadata": {},
   "outputs": [
    {
     "data": {
      "text/plain": [
       "17"
      ]
     },
     "execution_count": 90,
     "metadata": {},
     "output_type": "execute_result"
    }
   ],
   "source": [
    "len(h_off)"
   ]
  },
  {
   "cell_type": "code",
   "execution_count": 91,
   "metadata": {},
   "outputs": [
    {
     "data": {
      "text/plain": [
       "17"
      ]
     },
     "execution_count": 91,
     "metadata": {},
     "output_type": "execute_result"
    }
   ],
   "source": [
    "len(home_teams)"
   ]
  },
  {
   "cell_type": "code",
   "execution_count": 93,
   "metadata": {},
   "outputs": [
    {
     "name": "stdout",
     "output_type": "stream",
     "text": [
      "Maryland Michigan 113.5 113.2 1\n",
      "Michigan State Ohio State 115.2 114.3 2\n",
      "Illinois Iowa 110.9 117.3 3\n",
      "Houston Memphis 112.7 100.6 4\n",
      "Boston University Bucknell 103.3 96.2 5\n",
      "Hofstra Drexel 108.7 100.0 6\n",
      "UCF East Carolina 103.5 99.6 7\n",
      "William & Mary Elon 103.3 100.6 8\n",
      "Winthrop Hampton 104.7 104.8 9\n",
      "Colgate Lafayette 107.2 100.6 10\n",
      "Liberty Lipscomb 106.1 101.2 11\n",
      "Minnesota Nebraska 112.1 102.0 12\n",
      "South Dakota North Dakota 108.6 102.2 13\n",
      "Towson Northeastern 105.7 105.4 14\n",
      "Wichita State Tulsa 105.6 103.2 15\n",
      "Bradley Valparaiso 106.8 104.5 16\n",
      "Chattanooga Wofford 106.6 104.5 17\n"
     ]
    }
   ],
   "source": [
    "for i, val in enumerate(home_teams):\n",
    "    print(home_teams[i],away_teams[i], h_off[i], a_off[i], i + 1)"
   ]
  },
  {
   "cell_type": "code",
   "execution_count": 64,
   "metadata": {},
   "outputs": [
    {
     "name": "stdout",
     "output_type": "stream",
     "text": [
      "83 Maryland Michigan 70 0\n",
      "80 Michigan State Ohio State 69 1\n",
      "78 Illinois Iowa 76 2\n",
      "64 Houston Memphis 57 3\n",
      "64 Boston University Bucknell 61 4\n",
      "76 Tulane UConn 80 5\n",
      "67 College of Charleston Delaware 79 6\n",
      "61 Hofstra Drexel 43 7\n",
      "94 UCF East Carolina 62 8\n",
      "63 William & Mary Elon 68 9\n",
      "76 Winthrop Hampton 68 10\n",
      "89 Colgate Lafayette 64 11\n",
      "73 Liberty Lipscomb 57 12\n",
      "107 Minnesota Nebraska 75 13\n",
      "79 Oral Roberts Omaha 52 14\n",
      "71 South Dakota North Dakota 74 15\n",
      "62 Towson Northeastern 72 16\n",
      "79 Wichita State Tulsa 57 17\n",
      "80 Bradley Valparaiso 66 18\n",
      "97 ETSU Western Carolina 75 19\n",
      "70 Chattanooga Wofford 72 20\n"
     ]
    }
   ],
   "source": [
    "for i, val in enumerate(home_teams):\n",
    "    print(home_scores[i],home_teams[i],away_teams[i],away_scores[i], i)"
   ]
  },
  {
   "cell_type": "code",
   "execution_count": null,
   "metadata": {
    "collapsed": true
   },
   "outputs": [],
   "source": []
  }
 ],
 "metadata": {
  "kernelspec": {
   "display_name": "Python 3.6.3 64-bit",
   "language": "python",
   "name": "python36364bit6c9bb98bb2bc4fcb9679a38287fe6d3e"
  },
  "language_info": {
   "codemirror_mode": {
    "name": "ipython",
    "version": 3
   },
   "file_extension": ".py",
   "mimetype": "text/x-python",
   "name": "python",
   "nbconvert_exporter": "python",
   "pygments_lexer": "ipython3",
   "version": "3.6.3"
  }
 },
 "nbformat": 4,
 "nbformat_minor": 2
}
