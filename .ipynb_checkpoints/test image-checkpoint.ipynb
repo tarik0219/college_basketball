{
 "cells": [
  {
   "cell_type": "code",
   "execution_count": 5,
   "metadata": {},
   "outputs": [
    {
     "name": "stdout",
     "output_type": "stream",
     "text": [
      "https://lthumb.lisimg.com/721/14931721.jpg\n",
      "https://lthumb.lisimg.com/721/14931721.jpg\n",
      "https://lthumb.lisimg.com/000/100000000000.jpg\n",
      "https://lthumb.lisimg.com/016/14811016.jpg\n",
      "https://lthumb.lisimg.com/746/573746.jpg\n",
      "https://lthumb.lisimg.com/426/13218426.jpg\n",
      "https://lthumb.lisimg.com/434/13218434.jpg\n",
      "https://lthumb.lisimg.com/760/5028760.jpg\n",
      "https://lthumb.lisimg.com/260/6133260.jpg\n",
      "https://lthumb.lisimg.com/203/6133203.jpg\n",
      "https://lthumb.lisimg.com/901/6132901.jpg\n",
      "https://lthumb.lisimg.com/797/9915797.jpg\n",
      "https://lthumb.lisimg.com/723/14931723.jpg\n",
      "https://lthumb.lisimg.com/242/6133242.jpg\n",
      "https://lthumb.lisimg.com/088/9343088.jpg\n",
      "https://lthumb.lisimg.com/862/13217862.jpg\n",
      "https://lthumb.lisimg.com/722/14931722.jpg\n",
      "https://lthumb.lisimg.com/724/14931724.jpg\n",
      "https://lthumb.lisimg.com/721/14931721.jpg\n",
      "https://lthumb.lisimg.com/588/12066588.jpg\n"
     ]
    }
   ],
   "source": [
    "import urllib.request\n",
    "import re\n",
    "\n",
    "source = urllib.request.urlopen('https://www.listal.com/list/music-group-tlc').read().decode('utf-8')\n",
    "\n",
    "## every image name is an abbreviation composed by capital letters, so...\n",
    "for link in re.findall('https://lthumb.lisimg.com/[0-9]*/[0-9]*.jpg', source):\n",
    "    print (link)"
   ]
  },
  {
   "cell_type": "code",
   "execution_count": 14,
   "metadata": {},
   "outputs": [
    {
     "name": "stderr",
     "output_type": "stream",
     "text": [
      "C:\\Program Files (x86)\\Microsoft Visual Studio\\Shared\\Python36_64\\lib\\site-packages\\ipykernel_launcher.py:7: DeprecationWarning: use options instead of chrome_options\n",
      "  import sys\n"
     ]
    },
    {
     "name": "stdout",
     "output_type": "stream",
     "text": [
      "https://lthumb.lisimg.com/091/22705091.jpg?width=380&sharpen=true\n",
      "https://lthumb.lisimg.com/283/19149283.jpg?width=380&sharpen=true\n",
      "https://lthumb.lisimg.com/331/19087331.jpg?width=380&sharpen=true\n",
      "https://lthumb.lisimg.com/684/19037684.jpg?width=380&sharpen=true\n",
      "https://lthumb.lisimg.com/284/4003284.jpg?width=380&sharpen=true\n",
      "https://lthumb.lisimg.com/354/17320354.jpg?width=380&sharpen=true\n",
      "https://lthumb.lisimg.com/361/11913361.jpg?width=380&sharpen=true\n",
      "https://lthumb.lisimg.com/409/11519409.jpg?width=380&sharpen=true\n",
      "https://lthumb.lisimg.com/052/13372052.jpg?width=380&sharpen=true\n",
      "https://lthumb.lisimg.com/798/6335798.jpg?width=380&sharpen=true\n",
      "https://lthumb.lisimg.com/062/17365062.jpg?width=380&sharpen=true\n",
      "https://lthumb.lisimg.com/047/17345047.jpg?width=380&sharpen=true\n",
      "https://lthumb.lisimg.com/562/17229562.jpg?width=380&sharpen=true\n",
      "https://lthumb.lisimg.com/134/2512134.jpg?width=380&sharpen=true\n",
      "https://lthumb.lisimg.com/136/2512136.jpg?width=380&sharpen=true\n",
      "https://lthumb.lisimg.com/474/6334474.jpg?width=380&sharpen=true\n",
      "https://lthumb.lisimg.com/952/14150952.jpg?width=380&sharpen=true\n",
      "https://lthumb.lisimg.com/957/14150957.jpg?width=380&sharpen=true\n",
      "https://lthumb.lisimg.com/960/14150960.jpg?width=380&sharpen=true\n",
      "https://lthumb.lisimg.com/322/17307322.jpg?width=380&sharpen=true\n",
      "https://lthumb.lisimg.com/216/17188216.jpg?width=380&sharpen=true\n",
      "https://lthumb.lisimg.com/935/15545935.jpg?width=380&sharpen=true\n",
      "https://lthumb.lisimg.com/941/7405941.jpg?width=380&sharpen=true\n",
      "https://lthumb.lisimg.com/406/17274406.jpg?width=380&sharpen=true\n",
      "https://lthumb.lisimg.com/894/16858894.jpg?width=380&sharpen=true\n",
      "https://lthumb.lisimg.com/072/15786072.jpg?width=380&sharpen=true\n",
      "https://lthumb.lisimg.com/055/17171055.jpg?width=380&sharpen=true\n",
      "https://lthumb.lisimg.com/871/16550871.jpg?width=380&sharpen=true\n",
      "https://lthumb.lisimg.com/877/16550877.jpg?width=380&sharpen=true\n",
      "https://lthumb.lisimg.com/167/14241167.jpg?width=380&sharpen=true\n"
     ]
    }
   ],
   "source": [
    "from selenium import webdriver\n",
    "\n",
    "options = webdriver.ChromeOptions()\n",
    "options.add_argument('--ignore-certificate-errors')\n",
    "options.add_argument(\"--test-type\")\n",
    "#options.binary_location = \"/usr/bin/chromium\"\n",
    "driver = webdriver.Chrome(chrome_options=options)\n",
    "\n",
    "driver.get('https://www.listal.com/list/just-plain-cute-5')\n",
    "\n",
    "images = driver.find_elements_by_class_name('pure-img')\n",
    "for image in images:\n",
    "    print(image.get_attribute('src'))\n",
    "\n",
    "driver.close()"
   ]
  },
  {
   "cell_type": "code",
   "execution_count": null,
   "metadata": {
    "collapsed": true
   },
   "outputs": [],
   "source": []
  }
 ],
 "metadata": {
  "kernelspec": {
   "display_name": "Python 3.6.3 64-bit",
   "language": "python",
   "name": "python36364bit6c9bb98bb2bc4fcb9679a38287fe6d3e"
  },
  "language_info": {
   "codemirror_mode": {
    "name": "ipython",
    "version": 3
   },
   "file_extension": ".py",
   "mimetype": "text/x-python",
   "name": "python",
   "nbconvert_exporter": "python",
   "pygments_lexer": "ipython3",
   "version": "3.6.3"
  }
 },
 "nbformat": 4,
 "nbformat_minor": 2
}
